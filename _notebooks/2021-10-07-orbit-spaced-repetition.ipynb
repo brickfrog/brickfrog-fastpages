{
 "cells": [
  {
   "cell_type": "markdown",
   "id": "5ac6288f-8169-490c-96f8-78be609e899d",
   "metadata": {},
   "source": [
    "# \"Orbit in Jupyter\"\n",
    "> \"Orbit lets you interleave recurring prompts into your writing. When used well, these prompts can help people reliably remember what they read, understand complex topics more easily, and stay connected to ideas over time.\"\n",
    "\n",
    "- toc: false\n",
    "- badges: true\n",
    "- comments: true\n",
    "- author: Justin Malloy\n",
    "- categories: [jupyter, orbit, spaced-repetition, learning]"
   ]
  },
  {
   "cell_type": "markdown",
   "id": "b0e1eea8-3a72-4a39-a223-4e70eae56355",
   "metadata": {},
   "source": [
    "# About\n",
    "\n",
    "A quick post about discovering [Orbit](https://docs.withorbit.com) and realizing you could use it inside of a notebook. This might be a neat mechanism in which to cover statistics and probability. To take a further look, read the authors book utilizing it, [Quantum Country](https://quantum.country/qcvc)"
   ]
  },
  {
   "cell_type": "code",
   "execution_count": 3,
   "id": "767db8bd-e065-4251-98b9-89aa294c3c7d",
   "metadata": {},
   "outputs": [
    {
     "data": {
      "text/html": [
       "<html>\n",
       "  <head>\n",
       "    <script type=\"module\" src=\"https://js.withorbit.com/orbit-web-component.js\"></script>\n",
       "  </head>\n",
       "  <body>\n",
       "    <orbit-reviewarea color=\"purple\">\n",
       "      <orbit-prompt\n",
       "        question=\"What's the working name for Andy's experimental mnemonic medium platform?\"\n",
       "        answer=\"Orbit\"\n",
       "      ></orbit-prompt>\n",
       "      <orbit-prompt\n",
       "        question=\"What's the new-ish web technology used to embed Orbit prompts into web pages?\"\n",
       "        answer=\"Web components\"\n",
       "      ></orbit-prompt>\n",
       "      <orbit-prompt\n",
       "        question=\"Given a right triangle with legs of length $a$ and $b$, what is the length of hypotenuse $c$?\"\n",
       "        answer=\"$$c = \\sqrt{a^2 + b^2}$$\"\n",
       "      ></orbit-prompt>\n",
       "            <orbit-prompt\n",
       "        question=\"What is needed to display HTML in a Jupyter notebook?\"\n",
       "        answer=\"The IPython.core.display package and the display and HTML functions\"\n",
       "      ></orbit-prompt>\n",
       "    </orbit-reviewarea>\n",
       "  </body>\n",
       "</html>"
      ],
      "text/plain": [
       "<IPython.core.display.HTML object>"
      ]
     },
     "metadata": {},
     "output_type": "display_data"
    }
   ],
   "source": [
    "from IPython.core.display import display, HTML\n",
    "display(HTML('''<html>\n",
    "  <head>\n",
    "    <script type=\"module\" src=\"https://js.withorbit.com/orbit-web-component.js\"></script>\n",
    "  </head>\n",
    "  <body>\n",
    "    <orbit-reviewarea color=\"purple\">\n",
    "      <orbit-prompt\n",
    "        question=\"What's the working name for Andy's experimental mnemonic medium platform?\"\n",
    "        answer=\"Orbit\"\n",
    "      ></orbit-prompt>\n",
    "      <orbit-prompt\n",
    "        question=\"What's the new-ish web technology used to embed Orbit prompts into web pages?\"\n",
    "        answer=\"Web components\"\n",
    "      ></orbit-prompt>\n",
    "      <orbit-prompt\n",
    "        question=\"Given a right triangle with legs of length $a$ and $b$, what is the length of hypotenuse $c$?\"\n",
    "        answer=\"$$c = \\sqrt{a^2 + b^2}$$\"\n",
    "      ></orbit-prompt>\n",
    "            <orbit-prompt\n",
    "        question=\"What is needed to display HTML in a Jupyter notebook?\"\n",
    "        answer=\"The IPython.core.display package and the display and HTML functions\"\n",
    "      ></orbit-prompt>\n",
    "    </orbit-reviewarea>\n",
    "  </body>\n",
    "</html>'''))"
   ]
  },
  {
   "cell_type": "code",
   "execution_count": null,
   "id": "18d44027-0392-41b7-be32-5ff0865590e5",
   "metadata": {},
   "outputs": [],
   "source": []
  }
 ],
 "metadata": {
  "kernelspec": {
   "display_name": "Python 3 (ipykernel)",
   "language": "python",
   "name": "python3"
  },
  "language_info": {
   "codemirror_mode": {
    "name": "ipython",
    "version": 3
   },
   "file_extension": ".py",
   "mimetype": "text/x-python",
   "name": "python",
   "nbconvert_exporter": "python",
   "pygments_lexer": "ipython3",
   "version": "3.9.5"
  }
 },
 "nbformat": 4,
 "nbformat_minor": 5
}
